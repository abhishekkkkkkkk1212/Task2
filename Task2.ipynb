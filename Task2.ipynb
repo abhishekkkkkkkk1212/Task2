{
 "cells": [
  {
   "cell_type": "code",
   "execution_count": null,
   "id": "68c69c87-fb22-4edf-bef6-1ef11480832d",
   "metadata": {},
   "outputs": [],
   "source": []
  },
  {
   "cell_type": "code",
   "execution_count": null,
   "id": "9fbdc844-2a8c-44a2-81be-034f71d24eac",
   "metadata": {},
   "outputs": [],
   "source": [
    "\n"
   ]
  },
  {
   "cell_type": "code",
   "execution_count": 3,
   "id": "369861d4-69ee-417c-821f-84c957531f44",
   "metadata": {},
   "outputs": [
    {
     "name": "stdout",
     "output_type": "stream",
     "text": [
      "Chatbot is ready! Type 'bye' to exit.\n"
     ]
    },
    {
     "name": "stdin",
     "output_type": "stream",
     "text": [
      "You:  abhishek\n"
     ]
    },
    {
     "name": "stdout",
     "output_type": "stream",
     "text": [
      "Bot: Sorry, I don't understand that.\n"
     ]
    },
    {
     "name": "stdin",
     "output_type": "stream",
     "text": [
      "You:  bye\n"
     ]
    },
    {
     "name": "stdout",
     "output_type": "stream",
     "text": [
      "Bot: Goodbye! Have a nice day 😊\n"
     ]
    }
   ],
   "source": [
    "# Task 2: Basic Chatbot\n",
    "\n",
    "def chatbot():\n",
    "    print(\"Chatbot is ready! Type 'bye' to exit.\")\n",
    "    \n",
    "    while True:\n",
    "        user_input = input(\"You: \").lower()  # convert input to lowercase for easy matching\n",
    "        \n",
    "        if user_input == \"hello\":\n",
    "            print(\"Bot: Hi!\")\n",
    "        elif user_input == \"how are you\":\n",
    "            print(\"Bot: I'm fine, thanks! How about you?\")\n",
    "        elif user_input == \"bye\":\n",
    "            print(\"Bot: Goodbye! Have a nice day 😊\")\n",
    "            break\n",
    "        else:\n",
    "            print(\"Bot: Sorry, I don't understand that.\")\n",
    "            \n",
    "\n",
    "# Run the chatbot\n",
    "chatbot()\n",
    "\n"
   ]
  },
  {
   "cell_type": "code",
   "execution_count": null,
   "id": "64644a29-27a6-4adf-9f4a-9135619c3774",
   "metadata": {},
   "outputs": [],
   "source": []
  }
 ],
 "metadata": {
  "kernelspec": {
   "display_name": "Python [conda env:base] *",
   "language": "python",
   "name": "conda-base-py"
  },
  "language_info": {
   "codemirror_mode": {
    "name": "ipython",
    "version": 3
   },
   "file_extension": ".py",
   "mimetype": "text/x-python",
   "name": "python",
   "nbconvert_exporter": "python",
   "pygments_lexer": "ipython3",
   "version": "3.13.5"
  }
 },
 "nbformat": 4,
 "nbformat_minor": 5
}
